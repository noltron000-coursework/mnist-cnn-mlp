{
 "cells": [
  {
   "cell_type": "markdown",
   "metadata": {},
   "source": [
    "## 0. What We Are Going To Do:\n",
    "We are going to classify images of handwritten digits (MNIST dataset) using a fully-connected neural network.\n",
    "\n",
    "![MLNN](img/mlp.png)\n",
    "\n",
    "After successful training, our model will be able to guess the digit in the image."
   ]
  },
  {
   "cell_type": "markdown",
   "metadata": {},
   "source": [
    "** In this section we import all the packages you need(You may edit & rerun this part later)**\n",
    "\n",
    "Note: You can also import classes/functions within a package directly (e.g. from keras.layers import Dense).\n"
   ]
  },
  {
   "cell_type": "code",
   "execution_count": 1,
   "metadata": {},
   "outputs": [
    {
     "name": "stderr",
     "output_type": "stream",
     "text": [
      "C:\\Users\\Sajjad\\Anaconda3\\lib\\site-packages\\h5py\\__init__.py:36: FutureWarning: Conversion of the second argument of issubdtype from `float` to `np.floating` is deprecated. In future, it will be treated as `np.float64 == np.dtype(float).type`.\n",
      "  from ._conv import register_converters as _register_converters\n",
      "Using TensorFlow backend.\n"
     ]
    }
   ],
   "source": [
    "import keras\n",
    "import matplotlib.pyplot as plt #This package is for plotting\n",
    "%matplotlib inline  \n",
    "import numpy as np\n",
    "from keras.datasets import mnist\n",
    "from keras.models import Sequential\n",
    "from keras.layers import Dense, Input\n",
    "from keras.optimizers import SGD\n",
    "from keras.initializers import RandomNormal\n",
    "from keras.models import load_model"
   ]
  },
  {
   "cell_type": "markdown",
   "metadata": {},
   "source": [
    "## 1. Prepare Data:\n",
    "\n",
    "The dataset is loaded in this section. \n",
    "\n",
    "**1-0. Check the dimensions of data and its minimum & maximum.**\n",
    "\n",
    "Note: You should paste the dataset file in '~/.keras/datasets/' directory or it will start downloading it."
   ]
  },
  {
   "cell_type": "code",
   "execution_count": 2,
   "metadata": {},
   "outputs": [],
   "source": [
    "(x_train, y_train), (x_test, y_test) = mnist.load_data()"
   ]
  },
  {
   "cell_type": "code",
   "execution_count": 3,
   "metadata": {},
   "outputs": [
    {
     "name": "stdout",
     "output_type": "stream",
     "text": [
      "train data dim: (60000, 28, 28)\n",
      "test data dim: (10000, 28, 28)\n",
      "test label dim: (10000,)\n",
      "max of train data: 255\n",
      "min of train data: 0\n",
      "max of test data: 255\n",
      "min of test data: 0\n"
     ]
    }
   ],
   "source": [
    "print('train data dim:', x_train.shape)\n",
    "# Print x_test and y_test dimensions\n",
    "print('test data dim:', x_test.shape)\n",
    "print('test label dim:', y_test.shape)\n",
    "# Question: How many train/test samples does it have?\n",
    "\n",
    "# Print the minimum and maximum of x_train and x_test(use numpy min and max functions)\n",
    "print('max of train data:',np.max(x_train))\n",
    "print('min of train data:',np.min(x_train))\n",
    "print('max of test data:',np.max(x_test))\n",
    "print('min of test data:',np.min(x_test))\n"
   ]
  },
  {
   "cell_type": "markdown",
   "metadata": {},
   "source": [
    "** 1-1. Check a random sample of train data and its label. **"
   ]
  },
  {
   "cell_type": "code",
   "execution_count": 4,
   "metadata": {},
   "outputs": [
    {
     "data": {
      "image/png": "[encoded data removed]",
      "text/plain": [
       "<Figure size 432x288 with 1 Axes>"
      ]
     },
     "metadata": {},
     "output_type": "display_data"
    },
    {
     "name": "stdout",
     "output_type": "stream",
     "text": [
      "label: 9\n"
     ]
    }
   ],
   "source": [
    "# generate a random number. (use numpy random.randint)\n",
    "rand_num = np.random.randint(60000)\n",
    "# plot using plt.imshow() & plt.show()\n",
    "plt.imshow(x_train[rand_num],cmap='gray')\n",
    "plt.show()\n",
    "# print its label\n",
    "print('label:', y_train[rand_num])"
   ]
  },
  {
   "cell_type": "markdown",
   "metadata": {},
   "source": [
    "**1-2. Our Network accept 1D data. So we should flatten our 2D image, then print the dimension of the result arrays.**\n",
    "\n",
    "Use numpy reshape function.\n"
   ]
  },
  {
   "cell_type": "code",
   "execution_count": 5,
   "metadata": {},
   "outputs": [],
   "source": [
    "# Reshape x_train and x_test\n",
    "x_train = np.reshape(x_train,[-1, 28*28])\n",
    "x_test = np.reshape(x_test,[-1, 28*28])"
   ]
  },
  {
   "cell_type": "markdown",
   "metadata": {},
   "source": [
    "** 1-3. Normalize data by rescaling them to (0,1) **"
   ]
  },
  {
   "cell_type": "code",
   "execution_count": 6,
   "metadata": {},
   "outputs": [],
   "source": [
    "x_train = x_train/np.max(x_train)\n",
    "x_test = x_test/np.max(x_train)"
   ]
  },
  {
   "cell_type": "markdown",
   "metadata": {},
   "source": [
    "** 1-4. Convert label arrays to 1-hot representation **"
   ]
  },
  {
   "cell_type": "code",
   "execution_count": 7,
   "metadata": {},
   "outputs": [],
   "source": [
    "y_train = keras.utils.to_categorical(y_train, 10)\n",
    "y_test = keras.utils.to_categorical(y_test, 10)\n"
   ]
  },
  {
   "cell_type": "markdown",
   "metadata": {},
   "source": [
    "## 2. Define Model"
   ]
  },
  {
   "cell_type": "markdown",
   "metadata": {},
   "source": [
    "** 2-0. Add the following layers to the network:**\n",
    "* Hidden Layer 1: Fully Conncted + Relu Activition (e.g. 512 Nuerons)\n",
    "* Hidden Layer 2: Fully Connected + Relu Activition (e.g. 512 Neurons)\n",
    "* Outout Layer: Fully Connected + Softmax Activition"
   ]
  },
  {
   "cell_type": "code",
   "execution_count": 8,
   "metadata": {},
   "outputs": [],
   "source": [
    "model = Sequential()\n",
    "# Add the layers to model here.\n",
    "model.add(Dense(512, activation='relu', input_shape=(784,), kernel_initializer= RandomNormal(0,0.01)))\n",
    "model.add(Dense(512, activation='relu', kernel_initializer= RandomNormal(0,0.01)))\n",
    "model.add(Dense(10, activation='softmax', kernel_initializer= RandomNormal(0,0.01)))"
   ]
  },
  {
   "cell_type": "markdown",
   "metadata": {},
   "source": [
    "** 2-1. Determine loss function, optimizer and metrics for the model **"
   ]
  },
  {
   "cell_type": "code",
   "execution_count": 9,
   "metadata": {},
   "outputs": [],
   "source": [
    "sgd = SGD(lr=0.01)\n",
    "model.compile(loss='categorical_crossentropy',\n",
    "             optimizer=sgd,\n",
    "             metrics = ['accuracy'])"
   ]
  },
  {
   "cell_type": "markdown",
   "metadata": {},
   "source": [
    "** 2-2. Print the review of the model **"
   ]
  },
  {
   "cell_type": "code",
   "execution_count": 10,
   "metadata": {},
   "outputs": [
    {
     "name": "stdout",
     "output_type": "stream",
     "text": [
      "_________________________________________________________________\n",
      "Layer (type)                 Output Shape              Param #   \n",
      "=================================================================\n",
      "dense_1 (Dense)              (None, 512)               401920    \n",
      "_________________________________________________________________\n",
      "dense_2 (Dense)              (None, 512)               262656    \n",
      "_________________________________________________________________\n",
      "dense_3 (Dense)              (None, 10)                5130      \n",
      "=================================================================\n",
      "Total params: 669,706\n",
      "Trainable params: 669,706\n",
      "Non-trainable params: 0\n",
      "_________________________________________________________________\n"
     ]
    }
   ],
   "source": [
    "model.summary()\n",
    "# Here we saved the raw model without any training. we will use it later.\n",
    "model.save('raw_model.h5')"
   ]
  },
  {
   "cell_type": "markdown",
   "metadata": {},
   "source": [
    "## 3. Train And Evaluate Model. "
   ]
  },
  {
   "cell_type": "markdown",
   "metadata": {},
   "source": [
    "** 3-0. Train model on training data using model.fit for 5 epoch**"
   ]
  },
  {
   "cell_type": "code",
   "execution_count": 11,
   "metadata": {},
   "outputs": [
    {
     "name": "stdout",
     "output_type": "stream",
     "text": [
      "Train on 48000 samples, validate on 12000 samples\n",
      "Epoch 1/3\n",
      "48000/48000 [==============================] - 10s 212us/step - loss: 2.1865 - acc: 0.3141 - val_loss: 1.5764 - val_acc: 0.5927\n",
      "Epoch 2/3\n",
      "48000/48000 [==============================] - 10s 205us/step - loss: 0.8185 - acc: 0.7637 - val_loss: 0.5048 - val_acc: 0.8587\n",
      "Epoch 3/3\n",
      "48000/48000 [==============================] - 10s 199us/step - loss: 0.4574 - acc: 0.8701 - val_loss: 0.3773 - val_acc: 0.8938\n"
     ]
    }
   ],
   "source": [
    "history = model.fit(x_train, y_train,\n",
    "                    batch_size = 32,\n",
    "                    epochs = 3,\n",
    "                    verbose = 1,\n",
    "                    validation_split = 0.2)"
   ]
  },
  {
   "cell_type": "markdown",
   "metadata": {},
   "source": [
    "** 3-1. Evaluate model on test data using model.evaluate. Print the model accuracy on test set. **"
   ]
  },
  {
   "cell_type": "code",
   "execution_count": 12,
   "metadata": {},
   "outputs": [
    {
     "name": "stdout",
     "output_type": "stream",
     "text": [
      "Test Loss: 1.7970773714591404\n",
      "Test accuracy: 0.8865\n"
     ]
    }
   ],
   "source": [
    "te_score = model.evaluate(x_test, y_test, verbose = 0)\n",
    "print('Test Loss:', te_score[0])\n",
    "print('Test accuracy:', te_score[1])"
   ]
  },
  {
   "cell_type": "markdown",
   "metadata": {},
   "source": [
    "** 3-2. Save model **\n",
    "\n",
    "In Keras, you can save the model to a HDF5 file(.h5) and reload it later simply by model.save(filepath) and keras.models.load_model(filepath), respectively.\n",
    "\n",
    "The saved model contains:\n",
    "* the architecture of the model, allowing to re-create the model\n",
    "* the weights of the model\n",
    "* the training configuration (loss, optimizer)\n",
    "* the state of the optimizer, allowing to resume training exactly where you left off.\n"
   ]
  },
  {
   "cell_type": "code",
   "execution_count": 13,
   "metadata": {},
   "outputs": [],
   "source": [
    "# save model here:\n",
    "model.save('mlp.h5')\n",
    "# Delete model to make sure you reload it correctly:\n",
    "del model"
   ]
  },
  {
   "cell_type": "markdown",
   "metadata": {},
   "source": [
    "** 3-3. Load model and Predict label for a random image in train set. Verify predicted label by ploting the image. **"
   ]
  },
  {
   "cell_type": "code",
   "execution_count": 14,
   "metadata": {
    "scrolled": true
   },
   "outputs": [
    {
     "data": {
      "image/png": "[encoded data removed]",
      "text/plain": [
       "<Figure size 432x288 with 1 Axes>"
      ]
     },
     "metadata": {},
     "output_type": "display_data"
    },
    {
     "name": "stdout",
     "output_type": "stream",
     "text": [
      "True label: 4\n",
      "Predicted label: 9\n"
     ]
    }
   ],
   "source": [
    "# reload the model here:\n",
    "model = load_model('mlp.h5')\n",
    "# generate a random number. (use numpy random.randint)\n",
    "rand_num = np.random.randint(60000)\n",
    "img = x_train[rand_num]\n",
    "img = np.expand_dims(img, axis = 0)\n",
    "predicted_label =model.predict(img, 1)\n",
    "img = np.reshape(img,(28,28))\n",
    "plt.imshow(img, cmap='gray' )\n",
    "plt.show()\n",
    "# print its label\n",
    "true_label = np.argmax(y_train[rand_num])\n",
    "predicted_label = np.argmax(predicted_label)\n",
    "print('True label:', true_label)\n",
    "print('Predicted label:', predicted_label)"
   ]
  },
  {
   "cell_type": "markdown",
   "metadata": {},
   "source": [
    "#### ** 3-4. Continue training + Callbacks **"
   ]
  },
  {
   "cell_type": "code",
   "execution_count": 15,
   "metadata": {},
   "outputs": [
    {
     "name": "stdout",
     "output_type": "stream",
     "text": [
      "Train on 48000 samples, validate on 12000 samples\n",
      "Epoch 1/100\n",
      "48000/48000 [==============================] - 10s 217us/step - loss: 0.3757 - acc: 0.8933 - val_loss: 0.3291 - val_acc: 0.9073\n",
      "Epoch 2/100\n",
      "48000/48000 [==============================] - 11s 221us/step - loss: 0.3332 - acc: 0.9048 - val_loss: 0.2982 - val_acc: 0.9138\n",
      "Epoch 3/100\n",
      "48000/48000 [==============================] - 10s 207us/step - loss: 0.3006 - acc: 0.9143 - val_loss: 0.2700 - val_acc: 0.9244\n",
      "Epoch 4/100\n",
      "48000/48000 [==============================] - 10s 205us/step - loss: 0.2717 - acc: 0.9216 - val_loss: 0.2496 - val_acc: 0.9302\n",
      "Epoch 5/100\n",
      "48000/48000 [==============================] - 10s 211us/step - loss: 0.2450 - acc: 0.9300 - val_loss: 0.2275 - val_acc: 0.9363\n",
      "Epoch 6/100\n",
      "48000/48000 [==============================] - 10s 210us/step - loss: 0.2219 - acc: 0.9369 - val_loss: 0.2065 - val_acc: 0.9425\n",
      "Epoch 7/100\n",
      "48000/48000 [==============================] - 10s 211us/step - loss: 0.2020 - acc: 0.9420 - val_loss: 0.1892 - val_acc: 0.9484\n",
      "Epoch 8/100\n",
      "48000/48000 [==============================] - 11s 220us/step - loss: 0.1857 - acc: 0.9467 - val_loss: 0.1753 - val_acc: 0.9513\n",
      "Epoch 9/100\n",
      "48000/48000 [==============================] - 11s 222us/step - loss: 0.1706 - acc: 0.9516 - val_loss: 0.1676 - val_acc: 0.9534\n",
      "Epoch 10/100\n",
      "48000/48000 [==============================] - 11s 219us/step - loss: 0.1580 - acc: 0.9551 - val_loss: 0.1577 - val_acc: 0.9560\n",
      "Epoch 11/100\n",
      "48000/48000 [==============================] - 11s 225us/step - loss: 0.1475 - acc: 0.9580 - val_loss: 0.1490 - val_acc: 0.9578\n",
      "Epoch 12/100\n",
      "48000/48000 [==============================] - 11s 219us/step - loss: 0.1367 - acc: 0.9606 - val_loss: 0.1433 - val_acc: 0.9601\n",
      "Epoch 13/100\n",
      "48000/48000 [==============================] - 10s 216us/step - loss: 0.1277 - acc: 0.9640 - val_loss: 0.1355 - val_acc: 0.9632\n",
      "Epoch 14/100\n",
      "48000/48000 [==============================] - 10s 210us/step - loss: 0.1196 - acc: 0.9660 - val_loss: 0.1289 - val_acc: 0.9636\n",
      "Epoch 15/100\n",
      "48000/48000 [==============================] - 10s 213us/step - loss: 0.1120 - acc: 0.9683 - val_loss: 0.1276 - val_acc: 0.9643\n",
      "Epoch 16/100\n",
      "48000/48000 [==============================] - 11s 222us/step - loss: 0.1050 - acc: 0.9704 - val_loss: 0.1221 - val_acc: 0.9656\n",
      "Epoch 00016: early stopping\n"
     ]
    },
    {
     "data": {
      "image/png": "[encoded data removed]",
      "text/plain": [
       "<Figure size 360x216 with 1 Axes>"
      ]
     },
     "metadata": {},
     "output_type": "display_data"
    },
    {
     "data": {
      "image/png": "[encoded data removed]",
      "text/plain": [
       "<Figure size 360x216 with 1 Axes>"
      ]
     },
     "metadata": {},
     "output_type": "display_data"
    }
   ],
   "source": [
    "# We will use two callbacks here: EarlyStopping, CSVLogger (you may add other callbacks to this list)\n",
    "callback = [keras.callbacks.EarlyStopping(monitor='val_loss', verbose=1, min_delta=0.01, patience = 2, mode= 'min' ),\n",
    "            keras.callbacks.CSVLogger('log.csv')]\n",
    "history = model.fit(x_train, y_train,\n",
    "                    batch_size = 32,\n",
    "                    epochs = 100,\n",
    "                    verbose = 1,\n",
    "                    validation_split = 0.2,\n",
    "                    callbacks = callback)\n",
    "\n",
    "plt.figure(figsize=(5,3))\n",
    "plt.plot(history.epoch,history.history['loss'])\n",
    "plt.title('loss')\n",
    "\n",
    "plt.figure(figsize=(5,3))\n",
    "plt.plot(history.epoch,history.history['acc'])\n",
    "plt.title('accuracy');"
   ]
  },
  {
   "cell_type": "markdown",
   "metadata": {},
   "source": [
    "## 4. Extras"
   ]
  },
  {
   "cell_type": "markdown",
   "metadata": {
    "collapsed": true
   },
   "source": [
    "** 4-0. Initialization is important! **\n",
    "\n",
    "Redefine Network, this time use mean=0 and std=1 for initialization.\n",
    "\n",
    "Then Try to fit the model.\n",
    "\n",
    "Do it with other initialization method and observe the result."
   ]
  },
  {
   "cell_type": "code",
   "execution_count": 16,
   "metadata": {},
   "outputs": [
    {
     "name": "stdout",
     "output_type": "stream",
     "text": [
      "Train on 60000 samples, validate on 10000 samples\n",
      "Epoch 1/10\n",
      " - 11s - loss: 13.4791 - acc: 0.1636 - val_loss: 13.1137 - val_acc: 0.1864\n",
      "Epoch 2/10\n",
      " - 11s - loss: 13.2294 - acc: 0.1792 - val_loss: 13.1169 - val_acc: 0.1862\n",
      "Epoch 3/10\n",
      " - 11s - loss: 13.1447 - acc: 0.1844 - val_loss: 13.0315 - val_acc: 0.1915\n",
      "Epoch 4/10\n",
      " - 11s - loss: 12.4502 - acc: 0.2273 - val_loss: 11.8661 - val_acc: 0.2638\n",
      "Epoch 5/10\n",
      " - 11s - loss: 11.8366 - acc: 0.2655 - val_loss: 11.7243 - val_acc: 0.2726\n",
      "Epoch 6/10\n",
      " - 11s - loss: 11.7423 - acc: 0.2714 - val_loss: 11.6647 - val_acc: 0.2763\n",
      "Epoch 7/10\n",
      " - 11s - loss: 11.7589 - acc: 0.2704 - val_loss: 11.6614 - val_acc: 0.2765\n",
      "Epoch 8/10\n",
      " - 11s - loss: 11.8000 - acc: 0.2679 - val_loss: 12.0499 - val_acc: 0.2524\n",
      "Epoch 9/10\n",
      " - 11s - loss: 11.6928 - acc: 0.2745 - val_loss: 11.6308 - val_acc: 0.2784\n",
      "Epoch 10/10\n",
      " - 11s - loss: 11.6474 - acc: 0.2773 - val_loss: 11.5889 - val_acc: 0.2810\n"
     ]
    }
   ],
   "source": [
    "model = Sequential()\n",
    "# Add the layers to model here.\n",
    "model.add(Dense(512, activation='relu', input_shape=(784,), kernel_initializer= RandomNormal(0,1)))\n",
    "model.add(Dense(512, activation='relu', kernel_initializer= RandomNormal(0,1)))\n",
    "model.add(Dense(10, activation='softmax', kernel_initializer= RandomNormal(0,1)))\n",
    "sgd = SGD(lr=0.01)\n",
    "model.compile(loss='categorical_crossentropy',\n",
    "             optimizer=sgd,\n",
    "             metrics = ['accuracy'])\n",
    "history = model.fit(x_train, y_train,\n",
    "                    batch_size = 32,\n",
    "                    epochs = 10,\n",
    "                    verbose = 2,\n",
    "                    validation_data=(x_test,y_test))"
   ]
  },
  {
   "cell_type": "markdown",
   "metadata": {},
   "source": [
    "** 4-1. Overfitting/Underfitting **\n",
    "\n",
    "Load the 'raw_model.h5' and this time use 1 percent of training data for training, and all test data for validation.\n",
    "\n",
    "Observe the result."
   ]
  },
  {
   "cell_type": "code",
   "execution_count": 17,
   "metadata": {},
   "outputs": [
    {
     "name": "stdout",
     "output_type": "stream",
     "text": [
      "Train on 600 samples, validate on 10000 samples\n",
      "Epoch 1/10\n",
      " - 1s - loss: 2.3024 - acc: 0.1517 - val_loss: 2.5574 - val_acc: 0.1078\n",
      "Epoch 2/10\n",
      " - 1s - loss: 2.3017 - acc: 0.1517 - val_loss: 2.4803 - val_acc: 0.1312\n",
      "Epoch 3/10\n",
      " - 1s - loss: 2.3010 - acc: 0.1333 - val_loss: 2.4089 - val_acc: 0.1645\n",
      "Epoch 4/10\n",
      " - 1s - loss: 2.3003 - acc: 0.1317 - val_loss: 2.3428 - val_acc: 0.2010\n",
      "Epoch 5/10\n",
      " - 1s - loss: 2.2996 - acc: 0.1317 - val_loss: 2.2826 - val_acc: 0.2341\n",
      "Epoch 6/10\n",
      " - 1s - loss: 2.2989 - acc: 0.1317 - val_loss: 2.2292 - val_acc: 0.2587\n",
      "Epoch 7/10\n",
      " - 1s - loss: 2.2983 - acc: 0.1317 - val_loss: 2.1799 - val_acc: 0.2755\n",
      "Epoch 8/10\n",
      " - 1s - loss: 2.2976 - acc: 0.1317 - val_loss: 2.1384 - val_acc: 0.2879\n",
      "Epoch 9/10\n",
      " - 1s - loss: 2.2969 - acc: 0.1317 - val_loss: 2.1035 - val_acc: 0.2992\n",
      "Epoch 10/10\n",
      " - 1s - loss: 2.2963 - acc: 0.1317 - val_loss: 2.0750 - val_acc: 0.3066\n"
     ]
    }
   ],
   "source": [
    "del model\n",
    "\n",
    "model = load_model('raw_model.h5')\n",
    "history = model.fit(x_train[:600], y_train[:600],\n",
    "                    batch_size = 32,\n",
    "                    epochs = 10,\n",
    "                    verbose = 2,\n",
    "                    validation_data=(x_test,y_test))"
   ]
  },
  {
   "cell_type": "markdown",
   "metadata": {},
   "source": [
    "Now create another fully-connected model with 1 hidden layer(10 Neurons). Use all training data for training this model.\n",
    "\n",
    "Observe the result."
   ]
  },
  {
   "cell_type": "code",
   "execution_count": 18,
   "metadata": {},
   "outputs": [
    {
     "name": "stdout",
     "output_type": "stream",
     "text": [
      "Train on 60000 samples, validate on 10000 samples\n",
      "Epoch 1/10\n",
      " - 2s - loss: 2.7879 - acc: 0.2401 - val_loss: 4.9246 - val_acc: 0.2923\n",
      "Epoch 2/10\n",
      " - 2s - loss: 1.9179 - acc: 0.3283 - val_loss: 6.3385 - val_acc: 0.3715\n",
      "Epoch 3/10\n",
      " - 2s - loss: 1.6574 - acc: 0.3966 - val_loss: 6.9286 - val_acc: 0.3859\n",
      "Epoch 4/10\n",
      " - 2s - loss: 1.4855 - acc: 0.4587 - val_loss: 8.2250 - val_acc: 0.4244\n",
      "Epoch 5/10\n",
      " - 2s - loss: 1.3615 - acc: 0.5057 - val_loss: 8.3299 - val_acc: 0.4497\n",
      "Epoch 6/10\n",
      " - 2s - loss: 1.2574 - acc: 0.5464 - val_loss: 8.0134 - val_acc: 0.4806\n",
      "Epoch 7/10\n",
      " - 2s - loss: 1.1718 - acc: 0.5821 - val_loss: 7.8156 - val_acc: 0.4996\n",
      "Epoch 8/10\n",
      " - 2s - loss: 1.1013 - acc: 0.6109 - val_loss: 7.6681 - val_acc: 0.5133\n",
      "Epoch 9/10\n",
      " - 2s - loss: 1.0430 - acc: 0.6340 - val_loss: 7.2913 - val_acc: 0.5396\n",
      "Epoch 10/10\n",
      " - 2s - loss: 0.9942 - acc: 0.6531 - val_loss: 7.2627 - val_acc: 0.5422\n"
     ]
    }
   ],
   "source": [
    "model = Sequential()\n",
    "# Add the layers to model here.\n",
    "model.add(Dense(5, activation='relu', input_shape=(784,), kernel_initializer= RandomNormal(0,1)))\n",
    "model.add(Dense(10, activation='softmax', kernel_initializer= RandomNormal(0,1)))\n",
    "sgd = SGD(lr=0.01)\n",
    "model.compile(loss='categorical_crossentropy',\n",
    "             optimizer=sgd,\n",
    "             metrics = ['accuracy'])\n",
    "history = model.fit(x_train, y_train,\n",
    "                    batch_size = 32,\n",
    "                    epochs = 10,\n",
    "                    verbose = 2,\n",
    "                    validation_data=(x_test,y_test))"
   ]
  },
  {
   "cell_type": "code",
   "execution_count": null,
   "metadata": {},
   "outputs": [],
   "source": []
  }
 ],
 "metadata": {
  "kernelspec": {
   "display_name": "Python 3",
   "language": "python",
   "name": "python3"
  },
  "language_info": {
   "codemirror_mode": {
    "name": "ipython",
    "version": 3
   },
   "file_extension": ".py",
   "mimetype": "text/x-python",
   "name": "python",
   "nbconvert_exporter": "python",
   "pygments_lexer": "ipython3",
   "version": "3.6.5"
  }
 },
 "nbformat": 4,
 "nbformat_minor": 2
}
